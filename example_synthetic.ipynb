{
 "cells": [
  {
   "cell_type": "code",
   "execution_count": null,
   "id": "3213945f-8fe0-419b-9550-11e3f5e32b59",
   "metadata": {},
   "outputs": [],
   "source": [
    "import numpy as np\n",
    "import pandas as pd\n",
    "\n",
    "from flagger import BayesFlaggerBeta, SVMFlagger\n",
    "from flagger_tools import BayesFlaggerBetaTest, SVMFlaggerTest, ModelError\n",
    "from flagger_tools import get_sampler_model\n",
    "from matplotlib import pyplot as plt\n",
    "from tmvbeta import TMVBeta"
   ]
  },
  {
   "cell_type": "markdown",
   "id": "c612b688-0cfd-401d-874e-2e935357e537",
   "metadata": {},
   "source": [
    "### Synthetic Data"
   ]
  },
  {
   "cell_type": "markdown",
   "id": "c0f7fddc-4cc9-441f-8d61-6c9decc35ec9",
   "metadata": {},
   "source": [
    "Load model parameters"
   ]
  },
  {
   "cell_type": "code",
   "execution_count": null,
   "id": "5e9073d7-6b12-436f-a9cf-397305dd61e0",
   "metadata": {},
   "outputs": [],
   "source": [
    "params = np.load(\"Data/parameters.npz\")\n",
    "a = params['a']\n",
    "b = params['b']\n",
    "cov = params['cov']"
   ]
  },
  {
   "cell_type": "markdown",
   "id": "906ea7be-99a6-4587-83e5-0a89639e0a88",
   "metadata": {},
   "source": [
    "Create sampler from model"
   ]
  },
  {
   "cell_type": "code",
   "execution_count": null,
   "id": "01e8ff35-abb6-4d9b-b49b-7b9314f4ddaf",
   "metadata": {},
   "outputs": [],
   "source": [
    "r = 0.2\n",
    "P0 = TMVBeta(a[0], b[0], cov[0])\n",
    "P1 = TMVBeta(a[1], b[1], cov[1])\n",
    "sampler = get_sampler_model(r, P0, P1)"
   ]
  },
  {
   "cell_type": "markdown",
   "id": "e07bfe39-b5d8-40e1-8078-b79e30ef06b4",
   "metadata": {},
   "source": [
    "Initialize Bayes and SVM flagger"
   ]
  },
  {
   "cell_type": "code",
   "execution_count": null,
   "id": "8c53e19d-7bab-433b-8c55-48d95d06fc17",
   "metadata": {},
   "outputs": [],
   "source": [
    "K = 20\n",
    "M = 10\n",
    "bayes_flagger_pol_1 = BayesFlaggerBeta(K, M, rule=\"detection\")\n",
    "bayes_flagger_pol_3 = BayesFlaggerBeta(K, M, rule=\"mixed\")\n",
    "svm_flagger = SVMFlagger(K, M)"
   ]
  },
  {
   "cell_type": "markdown",
   "id": "9884b112-ca95-4e11-aabe-92efe0172b23",
   "metadata": {},
   "source": [
    "Initialize testing classes"
   ]
  },
  {
   "cell_type": "code",
   "execution_count": null,
   "id": "bfb69a9c-eee7-494f-b2df-ccf10203a6a6",
   "metadata": {},
   "outputs": [],
   "source": [
    "N = 100\n",
    "bayes_test_pol_1 = BayesFlaggerBetaTest(bayes_flagger_pol_1, sampler, N)\n",
    "bayes_test_pol_3 = BayesFlaggerBetaTest(bayes_flagger_pol_3, sampler, N)\n",
    "svm_test = SVMFlaggerTest(svm_flagger, sampler, N)"
   ]
  },
  {
   "cell_type": "markdown",
   "id": "60268b7b-047d-4f7b-ad17-8b0e53aafdec",
   "metadata": {},
   "source": [
    "Simulate flagging under given model (In the paper, results are averaged over 20 runs. Here, we simulate a single run for the sake of time.)"
   ]
  },
  {
   "cell_type": "code",
   "execution_count": null,
   "id": "2cead688-aaf5-4995-8f69-3ace9c2dc4f8",
   "metadata": {},
   "outputs": [],
   "source": [
    "T = 100\n",
    "total_pol_1, detected_pol_1, model_pol_1, _ = bayes_test_pol_1.run(T)\n",
    "total_pol_3, detected_pol_3, model_pol_3, phi = bayes_test_pol_3.run(T)\n",
    "total_svm, detected_svm = svm_test.run(T)"
   ]
  },
  {
   "cell_type": "markdown",
   "id": "3b01ad7c-b246-4216-9c9f-c6b8e73c4035",
   "metadata": {},
   "source": [
    "Plot detection rates"
   ]
  },
  {
   "cell_type": "code",
   "execution_count": null,
   "id": "9ce1d045-2ad4-48fc-a9d9-f1b2267a44e1",
   "metadata": {},
   "outputs": [],
   "source": [
    "plt.plot(range(1, T+1), detected_pol_1[1:]/total_pol_1[1:], label=\"Detection-Greedy\")\n",
    "plt.plot(range(1, T+1), detected_pol_3[1:]/total_pol_3[1:], label=\"Mixed\")\n",
    "plt.plot(range(1, T+1), detected_svm[1:]/total_svm[1:], label=\"SVM\")\n",
    "plt.title(\"Detection Rate\")\n",
    "plt.ylabel(\"Detection Rate\")\n",
    "plt.xlabel(\"Administration\")\n",
    "plt.legend()\n",
    "plt.grid()"
   ]
  },
  {
   "cell_type": "markdown",
   "id": "259ba481-2c18-4d1f-971e-94cbecab2932",
   "metadata": {},
   "source": [
    "Plot model errors"
   ]
  },
  {
   "cell_type": "code",
   "execution_count": null,
   "id": "59f7287c-2565-4240-ac69-b676cd7af000",
   "metadata": {},
   "outputs": [],
   "source": [
    "model_err = ModelError(r, a, b, cov)"
   ]
  },
  {
   "cell_type": "code",
   "execution_count": null,
   "id": "b98d974d-42b5-4698-9ac8-d9a98b0cf514",
   "metadata": {},
   "outputs": [],
   "source": [
    "# MSE of R in dB\n",
    "mse_r_pol_1 = 10 * np.log10(np.array([model_err.mse_r(model) for model in model_pol_1]))\n",
    "mse_r_pol_3 = 10 * np.log10(np.array([model_err.mse_r(model) for model in model_pol_3]))"
   ]
  },
  {
   "cell_type": "code",
   "execution_count": null,
   "id": "ff4d7641-c3e8-4a41-ba35-bdbb6704b5fb",
   "metadata": {},
   "outputs": [],
   "source": [
    "plt.plot(range(T+1), mse_r_pol_1, label=\"Detection-Greedy\")\n",
    "plt.plot(range(T+1), mse_r_pol_3, label=\"Mixed\")\n",
    "plt.title(\"MSE($R$)\")\n",
    "plt.ylabel(\"MSE (dB)\")\n",
    "plt.xlabel(\"Administration\")\n",
    "plt.legend()\n",
    "plt.grid()"
   ]
  },
  {
   "cell_type": "code",
   "execution_count": null,
   "id": "88f1111b-980f-4fe6-9580-aa1604a0be1d",
   "metadata": {},
   "outputs": [],
   "source": [
    "# MSE of covariance matrix for critical group in dB\n",
    "mse_cov1_pol_1 = 10 * np.log10(np.array([model_err.mse_cov(1, model) for model in model_pol_1]))\n",
    "mse_cov1_pol_3 = 10 * np.log10(np.array([model_err.mse_cov(1, model) for model in model_pol_3]))"
   ]
  },
  {
   "cell_type": "code",
   "execution_count": null,
   "id": "b1e93e48-aff8-45c5-bd51-5d5ff028a516",
   "metadata": {},
   "outputs": [],
   "source": [
    "plt.plot(range(T+1), mse_cov1_pol_1, label=\"Detection-Greedy\")\n",
    "plt.plot(range(T+1), mse_cov1_pol_3, label=\"Mixed\")\n",
    "plt.title(r\"MSE($\\Sigma_1$)\")\n",
    "plt.ylabel(\"MSE (dB)\")\n",
    "plt.xlabel(\"Administration\")\n",
    "plt.legend()\n",
    "plt.grid()"
   ]
  },
  {
   "cell_type": "code",
   "execution_count": null,
   "id": "201f10a7-ca18-449f-8987-71924f8cc180",
   "metadata": {},
   "outputs": [],
   "source": [
    "plt.plot(range(1, T+1), phi[1:], label=r\"$\\phi$\")\n",
    "plt.title(\"Mixing parameter of Policy 3\")\n",
    "plt.ylabel(r\"$\\phi$\")\n",
    "plt.xlabel(\"Administration\")\n",
    "plt.legend()\n",
    "plt.grid()"
   ]
  }
 ],
 "metadata": {
  "kernelspec": {
   "display_name": "Python 3 (ipykernel)",
   "language": "python",
   "name": "python3"
  },
  "language_info": {
   "codemirror_mode": {
    "name": "ipython",
    "version": 3
   },
   "file_extension": ".py",
   "mimetype": "text/x-python",
   "name": "python",
   "nbconvert_exporter": "python",
   "pygments_lexer": "ipython3",
   "version": "3.13.0"
  }
 },
 "nbformat": 4,
 "nbformat_minor": 5
}
