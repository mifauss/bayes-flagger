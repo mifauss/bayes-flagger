{
 "cells": [
  {
   "cell_type": "code",
   "execution_count": null,
   "id": "7d8f3e53-1bdf-4616-8921-984e5efa41a0",
   "metadata": {},
   "outputs": [],
   "source": [
    "import numpy as np\n",
    "import pandas as pd\n",
    "\n",
    "from flagger import BayesFlaggerBeta, SVMFlagger\n",
    "from flagger_tools import BayesFlaggerBetaTest, SVMFlaggerTest, ModelError\n",
    "from flagger_tools import get_sampler_data\n",
    "from matplotlib import pyplot as plt\n",
    "from tmvbeta import TMVBeta"
   ]
  },
  {
   "cell_type": "markdown",
   "id": "c612b688-0cfd-401d-874e-2e935357e537",
   "metadata": {},
   "source": [
    "### Real World Data"
   ]
  },
  {
   "cell_type": "markdown",
   "id": "906ea7be-99a6-4587-83e5-0a89639e0a88",
   "metadata": {},
   "source": [
    "Create sampler from data"
   ]
  },
  {
   "cell_type": "code",
   "execution_count": null,
   "id": "b5b23bc3-e595-45fc-a56a-2c7980d0fa48",
   "metadata": {
    "scrolled": true
   },
   "outputs": [],
   "source": [
    "r = 0.2\n",
    "P0 = pd.read_csv(\"Data/sample_reference_group.csv\")\n",
    "P1 = pd.read_csv(\"Data/sample_critical_group.csv\")\n",
    "sampler = get_sampler_data(r, P0, P1)"
   ]
  },
  {
   "cell_type": "markdown",
   "id": "e07bfe39-b5d8-40e1-8078-b79e30ef06b4",
   "metadata": {},
   "source": [
    "Initialize Bayes and SVM flagger"
   ]
  },
  {
   "cell_type": "code",
   "execution_count": null,
   "id": "a7b2275f-9111-4c22-a518-246f376c886b",
   "metadata": {
    "scrolled": true
   },
   "outputs": [],
   "source": [
    "K = 40\n",
    "M = 3\n",
    "bayes_flagger_pol_1 = BayesFlaggerBeta(K, M, rule=\"detection\")\n",
    "bayes_flagger_pol_3 = BayesFlaggerBeta(K, M, rule=\"mixed\")\n",
    "svm_flagger = SVMFlagger(K, M)"
   ]
  },
  {
   "cell_type": "markdown",
   "id": "9884b112-ca95-4e11-aabe-92efe0172b23",
   "metadata": {},
   "source": [
    "Initialize testing classes"
   ]
  },
  {
   "cell_type": "code",
   "execution_count": null,
   "id": "a2bd9273-9ab9-4df9-8c84-876625f405b7",
   "metadata": {
    "scrolled": true
   },
   "outputs": [],
   "source": [
    "N = 100\n",
    "bayes_test_pol_1 = BayesFlaggerBetaTest(bayes_flagger_pol_1, sampler, N)\n",
    "bayes_test_pol_3 = BayesFlaggerBetaTest(bayes_flagger_pol_3, sampler, N)\n",
    "svm_test = SVMFlaggerTest(svm_flagger, sampler, N)"
   ]
  },
  {
   "cell_type": "markdown",
   "id": "60268b7b-047d-4f7b-ad17-8b0e53aafdec",
   "metadata": {},
   "source": [
    "Simulate flagging under given model"
   ]
  },
  {
   "cell_type": "code",
   "execution_count": null,
   "id": "6666c891-1de6-46ec-a5d2-2f1cdfe16452",
   "metadata": {},
   "outputs": [],
   "source": [
    "T = 100\n",
    "total_pol_1, detected_pol_1, model_pol_1, _ = bayes_test_pol_1.run(T)\n",
    "total_pol_3, detected_pol_3, model_pol_3, phi = bayes_test_pol_3.run(T)\n",
    "total_svm, detected_svm = svm_test.run(T)"
   ]
  },
  {
   "cell_type": "markdown",
   "id": "3b01ad7c-b246-4216-9c9f-c6b8e73c4035",
   "metadata": {},
   "source": [
    "Plot detection rates"
   ]
  },
  {
   "cell_type": "code",
   "execution_count": null,
   "id": "851bd2f5-ddcc-479a-928e-391680e9ea79",
   "metadata": {},
   "outputs": [],
   "source": [
    "plt.plot(range(1, T+1), detected_pol_1[1:]/total_pol_1[1:], label=\"Detection-Greedy\")\n",
    "plt.plot(range(1, T+1), detected_pol_3[1:]/total_pol_3[1:], label=\"Mixed\")\n",
    "plt.plot(range(1, T+1), detected_svm[1:]/total_svm[1:], label=\"SVM\")\n",
    "plt.title(\"Detection Rate\")\n",
    "plt.ylabel(\"Detection Rate\")\n",
    "plt.xlabel(\"Administration\")\n",
    "plt.legend()\n",
    "plt.grid()"
   ]
  },
  {
   "cell_type": "markdown",
   "id": "259ba481-2c18-4d1f-971e-94cbecab2932",
   "metadata": {},
   "source": [
    "Plot posterior means of $R$"
   ]
  },
  {
   "cell_type": "code",
   "execution_count": null,
   "id": "9e9d9d79-149e-4848-a6ed-d28f12d00b50",
   "metadata": {},
   "outputs": [],
   "source": [
    "r_est_pol_1 = np.array([model.v[1] / model.v.sum() for model in model_pol_1])\n",
    "r_est_pol_3 = np.array([model.v[1] / model.v.sum() for model in model_pol_3])"
   ]
  },
  {
   "cell_type": "code",
   "execution_count": null,
   "id": "da4c2369-f3e2-43d2-b44f-5d98d2e69c76",
   "metadata": {},
   "outputs": [],
   "source": [
    "plt.plot(range(T+1), r_est_pol_1, label=\"Detection-Greedy\")\n",
    "plt.plot(range(T+1), r_est_pol_3, label=\"Mixed\")\n",
    "plt.title(r\"Posterior Mean of $R$\")\n",
    "plt.ylabel(\"Posterior Mean\")\n",
    "plt.xlabel(\"Administration\")\n",
    "plt.legend()\n",
    "plt.grid()"
   ]
  }
 ],
 "metadata": {
  "kernelspec": {
   "display_name": "Python 3 (ipykernel)",
   "language": "python",
   "name": "python3"
  },
  "language_info": {
   "codemirror_mode": {
    "name": "ipython",
    "version": 3
   },
   "file_extension": ".py",
   "mimetype": "text/x-python",
   "name": "python",
   "nbconvert_exporter": "python",
   "pygments_lexer": "ipython3",
   "version": "3.13.0"
  }
 },
 "nbformat": 4,
 "nbformat_minor": 5
}
