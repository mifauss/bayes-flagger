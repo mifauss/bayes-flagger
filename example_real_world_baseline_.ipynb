{
 "cells": [
  {
   "cell_type": "code",
   "execution_count": 2,
   "id": "7d8f3e53-1bdf-4616-8921-984e5efa41a0",
   "metadata": {},
   "outputs": [
    {
     "name": "stderr",
     "output_type": "stream",
     "text": [
      "<string>:11: SyntaxWarning: invalid escape sequence '\\s'\n",
      "<string>:193: SyntaxWarning: invalid escape sequence '\\s'\n"
     ]
    }
   ],
   "source": [
    "import numpy as np\n",
    "import pandas as pd\n",
    "\n",
    "from flagger import PLFlagger, PLNNFlagger\n",
    "from flagger_tools import PLFlaggerTest\n",
    "from flagger_tools import get_sampler_data\n",
    "from matplotlib import pyplot as plt"
   ]
  },
  {
   "cell_type": "markdown",
   "id": "c612b688-0cfd-401d-874e-2e935357e537",
   "metadata": {},
   "source": [
    "### Real World Data"
   ]
  },
  {
   "cell_type": "markdown",
   "id": "906ea7be-99a6-4587-83e5-0a89639e0a88",
   "metadata": {},
   "source": [
    "Create sampler from data"
   ]
  },
  {
   "cell_type": "code",
   "execution_count": 4,
   "id": "b5b23bc3-e595-45fc-a56a-2c7980d0fa48",
   "metadata": {
    "scrolled": true
   },
   "outputs": [],
   "source": [
    "r = 0.2\n",
    "P0 = pd.read_csv(\"Data/sample_reference_group.csv\")\n",
    "P1 = pd.read_csv(\"Data/sample_critical_group.csv\")\n",
    "sampler = get_sampler_data(r, P0, P1)"
   ]
  },
  {
   "cell_type": "code",
   "execution_count": 96,
   "id": "cf19f745-9d64-4bfa-9165-dbeb6cab7845",
   "metadata": {},
   "outputs": [],
   "source": [
    "tmvbeta0 = TMVBeta(np.ones(3), np.ones(3), np.eye(3), x_min=np.array([0.13, 0.7, 0.3]))\n",
    "tmvbeta1 = TMVBeta(np.ones(3), np.ones(3), np.eye(3), x_min=np.array([0.13, 0.7, 0.3]))"
   ]
  },
  {
   "cell_type": "code",
   "execution_count": 97,
   "id": "2c00c7dc-1530-4827-852d-715492a0abf0",
   "metadata": {},
   "outputs": [
    {
     "data": {
      "text/plain": [
       "       message: Optimization terminated successfully.\n",
       "       success: True\n",
       "        status: 0\n",
       "           fun: -3.9559437736152026\n",
       "             x: [ 1.089e+00  5.304e+00  1.973e+00  6.070e+00  2.794e+00\n",
       "                  3.637e+00  8.908e-01  9.271e-01  8.923e-01]\n",
       "           nit: 820\n",
       "          nfev: 2324\n",
       " final_simplex: [[ 1.089e+00  5.304e+00 ...  9.271e-01  8.923e-01]\n",
       "                 [ 1.089e+00  5.304e+00 ...  9.271e-01  8.923e-01]\n",
       "                 ...\n",
       "                 [ 1.089e+00  5.304e+00 ...  9.271e-01  8.923e-01]\n",
       "                 [ 1.089e+00  5.304e+00 ...  9.271e-01  8.923e-01]]"
      ]
     },
     "execution_count": 97,
     "metadata": {},
     "output_type": "execute_result"
    }
   ],
   "source": [
    "tmvbeta0.fit(P0)\n",
    "tmvbeta1.fit(P1)"
   ]
  },
  {
   "cell_type": "code",
   "execution_count": 98,
   "id": "62829821-0774-4735-8959-92c8c88cf922",
   "metadata": {},
   "outputs": [],
   "source": [
    "tmvbeta0.update(x_min=None)\n",
    "tmvbeta1.update(x_min=None)"
   ]
  },
  {
   "cell_type": "code",
   "execution_count": 100,
   "id": "57201a34-736a-4bf7-8a35-256683d421f2",
   "metadata": {},
   "outputs": [],
   "source": [
    "sampler = get_sampler_model(r, tmvbeta0, tmvbeta1)"
   ]
  },
  {
   "cell_type": "markdown",
   "id": "e07bfe39-b5d8-40e1-8078-b79e30ef06b4",
   "metadata": {},
   "source": [
    "Initialize Bayes and SVM flagger"
   ]
  },
  {
   "cell_type": "code",
   "execution_count": 34,
   "id": "a7b2275f-9111-4c22-a518-246f376c886b",
   "metadata": {
    "scrolled": true
   },
   "outputs": [],
   "source": [
    "K = 60\n",
    "M = 3\n",
    "N = 100\n",
    "T = 100"
   ]
  },
  {
   "cell_type": "code",
   "execution_count": 113,
   "id": "c226d1ea-cf22-4c1e-afca-69c9f896971a",
   "metadata": {},
   "outputs": [],
   "source": [
    "pl_flagger_svm = PLFlagger(K, M)\n",
    "pl_flagger_lr = PLFlagger(K, M, \"log_loss\")"
   ]
  },
  {
   "cell_type": "code",
   "execution_count": 114,
   "id": "851f3b71-2349-4abf-b2c6-4a8d46f58abb",
   "metadata": {},
   "outputs": [],
   "source": [
    "test_svm = PLFlaggerTest(pl_flagger_svm, sampler, N, 20)\n",
    "test_lr = PLFlaggerTest(pl_flagger_lr, sampler, N, 20)"
   ]
  },
  {
   "cell_type": "code",
   "execution_count": 115,
   "id": "4108db3f-062a-4e58-989f-096644e57b3d",
   "metadata": {},
   "outputs": [],
   "source": [
    "total_svm = np.zeros((20, T + 1))\n",
    "total_lr = np.zeros((20, T + 1))\n",
    "\n",
    "detected_svm = np.zeros((20, T + 1))\n",
    "detected_lr = np.zeros((20, T + 1))\n",
    "        \n",
    "for n in range(20):\n",
    "    total_svm[n], detected_svm[n] = test_svm.run(T)\n",
    "    total_lr[n], detected_lr[n] = test_lr.run(T)\n",
    "\n",
    "rate_svm = np.mean(detected_svm[:, 1:] / total_svm[:, 1:], axis=0)\n",
    "rate_lr = np.mean(detected_lr[:, 1:] / total_lr[:, 1:], axis=0)"
   ]
  },
  {
   "cell_type": "code",
   "execution_count": 116,
   "id": "9b21d743-07eb-4ac5-9751-93c0ef3f2e48",
   "metadata": {},
   "outputs": [
    {
     "data": {
      "text/plain": [
       "(np.float64(0.5240811690436866), np.float64(0.5267574005807673))"
      ]
     },
     "execution_count": 116,
     "metadata": {},
     "output_type": "execute_result"
    }
   ],
   "source": [
    "rate_svm[-1], rate_lr[-1]"
   ]
  },
  {
   "cell_type": "code",
   "execution_count": 27,
   "id": "c3c6539d-7bc6-422e-b776-95f94bf99cc9",
   "metadata": {},
   "outputs": [],
   "source": [
    "save_to_gnuplot(f\"detection_rate_svm_{K}_no_mismatch.dat\", range(1, T+1), rate_svm)\n",
    "save_to_gnuplot(f\"detection_rate_lr_{K}_no_mismatch.dat\", range(1, T+1), rate_lr)"
   ]
  },
  {
   "cell_type": "code",
   "execution_count": 27,
   "id": "5d762b21-3da1-4787-a23a-56a2123e4be3",
   "metadata": {},
   "outputs": [
    {
     "name": "stdout",
     "output_type": "stream",
     "text": [
      "0.0001 0.07676441200605735\n",
      "0.00040949150623804275 0.07745456706943607\n",
      "0.0021209508879201904 0.09451115467109814\n",
      "0.47148663634573945 0.10170005736345819\n",
      "0.7543120063354622 0.1856484927339327\n",
      "1.2067926406393288 0.26024470857006776\n",
      "1.5264179671752334 0.3265838322782982\n",
      "2.44205309454865 0.44969209943416966\n",
      "4.941713361323838 0.47579178792058335\n",
      "7.9060432109077015 0.4879195757461988\n",
      "10.0 0.4897204032198615\n"
     ]
    }
   ],
   "source": [
    "rate_lr_max = 0.0\n",
    "for lr in 10 ** np.linspace(-4, 1, 50):\n",
    "    pl_flagger_lr = PLFlagger(K, M, lr=lr, loss=\"log_loss\")\n",
    "    test_lr = PLFlaggerTest(pl_flagger_lr, sampler, N, 10)\n",
    "        \n",
    "    total_lr = np.zeros((20, T + 1))\n",
    "    detected_lr = np.zeros((20, T + 1))\n",
    "    \n",
    "    for n in range(20):\n",
    "        total_lr[n], detected_lr[n] = test_lr.run(T)\n",
    "\n",
    "    rate_lr = np.mean(detected_lr[:, 1:] / total_lr[:, 1:], axis=0)\n",
    "\n",
    "    if rate_lr[-1] > rate_lr_max:\n",
    "        print(lr, rate_lr[-1])\n",
    "        rate_lr_max = rate_lr[-1]\n",
    "        save_to_gnuplot(f\"detection_rate_lr_{K}_real.dat\", range(1, T+1), rate_lr)"
   ]
  },
  {
   "cell_type": "code",
   "execution_count": 22,
   "id": "fb970888-bbbb-4ad8-b3f2-0dbc7bca0f8b",
   "metadata": {},
   "outputs": [
    {
     "name": "stdout",
     "output_type": "stream",
     "text": [
      "0.0001 0.31281912527071154\n",
      "0.00012648552168552957 0.3179111196684691\n",
      "0.00040949150623804275 0.32255392012123135\n",
      "0.0010481131341546852 0.3246167133572029\n",
      "0.0016768329368110084 0.3309599175937762\n",
      "0.0021209508879201904 0.33224027471058293\n",
      "0.002682695795279727 0.33637636265173965\n",
      "0.00339322177189533 0.34637109185811993\n",
      "0.004291934260128779 0.3497892797173947\n",
      "0.005428675439323859 0.3734560348853592\n",
      "0.006866488450042998 0.38542091762739905\n",
      "0.008685113737513529 0.44907450595149295\n",
      "0.010985411419875584 0.5322877862313752\n",
      "0.013894954943731374 0.5888030933848833\n",
      "0.01757510624854793 0.6441382813929459\n",
      "0.022229964825261957 0.6949546022949701\n",
      "0.028117686979742307 0.7283917328232365\n",
      "0.03556480306223129 0.7612829813567036\n",
      "0.04498432668969444 0.7801260177456416\n",
      "0.05689866029018299 0.8023110036575968\n",
      "0.07196856730011521 0.8205299398688911\n",
      "0.09102981779915217 0.8422952379650264\n",
      "0.11513953993264481 0.8530153014239913\n",
      "0.14563484775012445 0.863347132018928\n",
      "0.18420699693267165 0.8686243703794017\n",
      "0.2329951810515372 0.8716628137829376\n",
      "0.29470517025518095 0.8770865275062668\n",
      "0.3727593720314942 0.8777761528864433\n",
      "0.5963623316594643 0.8791996003483614\n",
      "1.9306977288832496 0.8794487856395975\n",
      "3.088843596477485 0.879705226097496\n"
     ]
    }
   ],
   "source": [
    "rate_sv_max = 0.0\n",
    "for lr in 10 ** np.linspace(-4, 1, 50):\n",
    "    pl_flagger_sv = PLFlagger(K, M, lr=lr)\n",
    "    test_sv = PLFlaggerTest(pl_flagger_sv, sampler, N, 10)\n",
    "        \n",
    "    total_sv = np.zeros((20, T + 1))\n",
    "    detected_sv = np.zeros((20, T + 1))\n",
    "    \n",
    "    for n in range(20):\n",
    "        total_sv[n], detected_sv[n] = test_sv.run(T)\n",
    "\n",
    "    rate_sv = np.mean(detected_sv[:, 1:] / total_sv[:, 1:], axis=0)\n",
    "\n",
    "    if rate_sv[-1] > rate_sv_max:\n",
    "        print(lr, rate_sv[-1])\n",
    "        rate_sv_max = rate_sv[-1]\n",
    "        save_to_gnuplot(f\"detection_rate_sv_{K}_real.dat\", range(1, T+1), rate_sv)"
   ]
  },
  {
   "cell_type": "code",
   "execution_count": 36,
   "id": "ec88c487-8480-44d4-a7f0-0c42ded1b68d",
   "metadata": {},
   "outputs": [
    {
     "name": "stdout",
     "output_type": "stream",
     "text": [
      "1e-05 2 0.6013701492574419\n",
      "1e-05 4 0.6411580386388893\n",
      "1e-05 6 0.7011433493344621\n",
      "0.47639380104013407 5 0.7152628968945338\n"
     ]
    }
   ],
   "source": [
    "rate_nn_max = 0.0\n",
    "for lr in 10 ** np.linspace(-5, 1, 60):\n",
    "    for n_hidden in [2, 3, 4, 5, 6, 7, 8, 9, 10]:\n",
    "        pl_flagger_nn = PLFlaggerNN(K, M, lr=lr, n_hidden=n_hidden)\n",
    "        test_nn = PLFlaggerTest(pl_flagger_nn, sampler, N, 10)\n",
    "        \n",
    "        total_nn = np.zeros((20, T + 1))\n",
    "        detected_nn = np.zeros((20, T + 1))\n",
    "        \n",
    "        for n in range(20):\n",
    "            total_nn[n], detected_nn[n] = test_nn.run(T)\n",
    "\n",
    "        rate_nn = np.mean(detected_nn[:, 1:] / total_nn[:, 1:], axis=0)\n",
    "\n",
    "        if rate_nn[-1] > rate_nn_max:\n",
    "            print(lr, n_hidden, rate_nn[-1])\n",
    "            rate_nn_max = rate_nn[-1]\n",
    "            save_to_gnuplot(f\"detection_rate_nn_{K}_real.dat\", range(1, T+1), rate_nn)"
   ]
  },
  {
   "cell_type": "markdown",
   "id": "9884b112-ca95-4e11-aabe-92efe0172b23",
   "metadata": {},
   "source": [
    "Initialize testing classes"
   ]
  },
  {
   "cell_type": "code",
   "execution_count": 38,
   "id": "8ef27944-93e3-4b4a-a3fe-9be795f3c750",
   "metadata": {},
   "outputs": [],
   "source": []
  },
  {
   "cell_type": "code",
   "execution_count": 9,
   "id": "851bd2f5-ddcc-479a-928e-391680e9ea79",
   "metadata": {},
   "outputs": [
    {
     "data": {
      "image/png": "[encoded data removed]",
      "text/plain": [
       "<Figure size 640x480 with 1 Axes>"
      ]
     },
     "metadata": {},
     "output_type": "display_data"
    }
   ],
   "source": [
    "plt.plot(range(1, T+1), rate_svm, label=\"SVM\")\n",
    "plt.plot(range(1, T+1), rate_lr, label=\"LR\")\n",
    "plt.title(\"Detection Rate\")\n",
    "plt.ylabel(\"Detection Rate\")\n",
    "plt.xlabel(\"Administration\")\n",
    "plt.legend()\n",
    "plt.grid()"
   ]
  },
  {
   "cell_type": "markdown",
   "id": "259ba481-2c18-4d1f-971e-94cbecab2932",
   "metadata": {},
   "source": [
    "Plot posterior means of $R$"
   ]
  },
  {
   "cell_type": "code",
   "execution_count": 8,
   "id": "9e9d9d79-149e-4848-a6ed-d28f12d00b50",
   "metadata": {},
   "outputs": [],
   "source": [
    "r_est_pol_1 = np.array([model.v[1] / model.v.sum() for model in model_pol_1])\n",
    "r_est_pol_3 = np.array([model.v[1] / model.v.sum() for model in model_pol_3])"
   ]
  },
  {
   "cell_type": "code",
   "execution_count": 9,
   "id": "da4c2369-f3e2-43d2-b44f-5d98d2e69c76",
   "metadata": {},
   "outputs": [
    {
     "data": {
      "image/png": "[encoded data removed]",
      "text/plain": [
       "<Figure size 640x480 with 1 Axes>"
      ]
     },
     "metadata": {},
     "output_type": "display_data"
    }
   ],
   "source": [
    "plt.plot(range(T+1), r_est_pol_1, label=\"Detection-Greedy\")\n",
    "plt.plot(range(T+1), r_est_pol_3, label=\"Mixed\")\n",
    "plt.title(r\"Posterior Mean of $R$\")\n",
    "plt.ylabel(\"Posterior Mean\")\n",
    "plt.xlabel(\"Administration\")\n",
    "plt.legend()\n",
    "plt.grid()"
   ]
  }
 ],
 "metadata": {
  "kernelspec": {
   "display_name": "Python 3 (ipykernel)",
   "language": "python",
   "name": "python3"
  },
  "language_info": {
   "codemirror_mode": {
    "name": "ipython",
    "version": 3
   },
   "file_extension": ".py",
   "mimetype": "text/x-python",
   "name": "python",
   "nbconvert_exporter": "python",
   "pygments_lexer": "ipython3",
   "version": "3.13.5"
  }
 },
 "nbformat": 4,
 "nbformat_minor": 5
}
