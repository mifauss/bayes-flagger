{
 "cells": [
  {
   "cell_type": "code",
   "execution_count": 1,
   "id": "3213945f-8fe0-419b-9550-11e3f5e32b59",
   "metadata": {},
   "outputs": [
    {
     "name": "stderr",
     "output_type": "stream",
     "text": [
      "<string>:11: SyntaxWarning: invalid escape sequence '\\s'\n",
      "<string>:193: SyntaxWarning: invalid escape sequence '\\s'\n"
     ]
    }
   ],
   "source": [
    "import numpy as np\n",
    "\n",
    "from flagger import PLFlagger, PLNNFlagger\n",
    "from flagger_tools import PLFlaggerTest\n",
    "from flagger_tools import get_sampler_model\n",
    "from matplotlib import pyplot as plt\n",
    "from tmvbeta import TMVBeta"
   ]
  },
  {
   "cell_type": "markdown",
   "id": "c612b688-0cfd-401d-874e-2e935357e537",
   "metadata": {},
   "source": [
    "### Synthetic Data"
   ]
  },
  {
   "cell_type": "markdown",
   "id": "c0f7fddc-4cc9-441f-8d61-6c9decc35ec9",
   "metadata": {},
   "source": [
    "Load model parameters"
   ]
  },
  {
   "cell_type": "code",
   "execution_count": 2,
   "id": "5e9073d7-6b12-436f-a9cf-397305dd61e0",
   "metadata": {},
   "outputs": [],
   "source": [
    "params = np.load(\"Data/parameters.npz\")\n",
    "a = params['a']\n",
    "b = params['b']\n",
    "cov = params['cov']"
   ]
  },
  {
   "cell_type": "markdown",
   "id": "906ea7be-99a6-4587-83e5-0a89639e0a88",
   "metadata": {},
   "source": [
    "Create sampler from model"
   ]
  },
  {
   "cell_type": "code",
   "execution_count": 3,
   "id": "01e8ff35-abb6-4d9b-b49b-7b9314f4ddaf",
   "metadata": {},
   "outputs": [],
   "source": [
    "r = 0.2\n",
    "P0 = TMVBeta(a[0], b[0], cov[0])\n",
    "P1 = TMVBeta(a[1], b[1], cov[1])\n",
    "sampler = get_sampler_model(r, P0, P1)"
   ]
  },
  {
   "cell_type": "markdown",
   "id": "e07bfe39-b5d8-40e1-8078-b79e30ef06b4",
   "metadata": {},
   "source": [
    "Administration parameters"
   ]
  },
  {
   "cell_type": "code",
   "execution_count": 4,
   "id": "8c53e19d-7bab-433b-8c55-48d95d06fc17",
   "metadata": {},
   "outputs": [],
   "source": [
    "K = 20   # Number of reviews per admin\n",
    "M = 10   # Length of feature vector\n",
    "N = 100  # Number of test takers per admin\n",
    "T = 100  # Number of admins (time horizon)"
   ]
  },
  {
   "cell_type": "markdown",
   "id": "5766b453-a092-4115-a7e7-2ee4edd747b8",
   "metadata": {},
   "source": [
    "Number of simulated rollouts"
   ]
  },
  {
   "cell_type": "code",
   "execution_count": 5,
   "id": "50a48d7d-d7e5-4e01-85e0-ced38b3cf21e",
   "metadata": {},
   "outputs": [],
   "source": [
    "rollouts = 20"
   ]
  },
  {
   "cell_type": "markdown",
   "id": "9884b112-ca95-4e11-aabe-92efe0172b23",
   "metadata": {},
   "source": [
    "Simulate PL-LR"
   ]
  },
  {
   "cell_type": "code",
   "execution_count": 6,
   "id": "bfb69a9c-eee7-494f-b2df-ccf10203a6a6",
   "metadata": {},
   "outputs": [
    {
     "name": "stdout",
     "output_type": "stream",
     "text": [
      "PL-LR: Maximum detection rate = 0.8272008901507698 at learning rate 0.7943282347242822\n"
     ]
    }
   ],
   "source": [
    "lr_opt = 0\n",
    "rate_lr_opt = np.zeros(T + 1)\n",
    "\n",
    "for lr in 10 ** np.linspace(-5, 1, 61):\n",
    "    # Initialize flagger and test\n",
    "    pl_flagger_lr = PLFlagger(K, M, lr=lr, loss=\"log_loss\")\n",
    "    test_lr = PLFlaggerTest(pl_flagger_lr, sampler, N, t_warmup=10)\n",
    "\n",
    "    # Initialize result arrays\n",
    "    total_lr = np.zeros((rollouts, T + 1))\n",
    "    detected_lr = np.zeros((rollouts, T + 1))\n",
    "\n",
    "    # Simulate rollouts\n",
    "    for n in range(rollouts):\n",
    "        total_lr[n], detected_lr[n] = test_lr.run(T)\n",
    "\n",
    "    # Calculate average detection rate\n",
    "    rate_lr = np.mean(detected_lr[:, 1:] / total_lr[:, 1:], axis=0)\n",
    "\n",
    "    # Update learning rate if final detection rate exceeds previous best\n",
    "    if rate_lr[-1] > rate_lr_opt[-1]:\n",
    "        lr_opt = lr\n",
    "        rate_lr_opt = rate_lr\n",
    "\n",
    "print(f\"PL-LR: Maximum detection rate = {rate_lr_opt[-1]} at learning rate {lr_opt}\")"
   ]
  },
  {
   "cell_type": "markdown",
   "id": "a0802323-3ed0-4a1c-bb2b-57ccefb74d6c",
   "metadata": {},
   "source": [
    "Simulate PL-SV"
   ]
  },
  {
   "cell_type": "code",
   "execution_count": 7,
   "id": "f272f748-73cb-48ba-b902-717b6664038a",
   "metadata": {},
   "outputs": [
    {
     "name": "stdout",
     "output_type": "stream",
     "text": [
      "PL-SV: Maximum detection rate = 0.8278285123826267 at learning rate 0.39810717055349776\n"
     ]
    }
   ],
   "source": [
    "lr_opt = 0\n",
    "rate_sv_opt = np.zeros(T + 1)\n",
    "\n",
    "for lr in 10 ** np.linspace(-5, 1, 61):\n",
    "    # Initialize flagger and test\n",
    "    pl_flagger_sv = PLFlagger(K, M, lr=lr, loss=\"hinge\")\n",
    "    test_sv = PLFlaggerTest(pl_flagger_sv, sampler, N, t_warmup=10)\n",
    "\n",
    "    # Initialize result arrays\n",
    "    total_sv = np.zeros((rollouts, T + 1))\n",
    "    detected_sv = np.zeros((rollouts, T + 1))\n",
    "\n",
    "    # Simulate rollouts\n",
    "    for n in range(rollouts):\n",
    "        total_sv[n], detected_sv[n] = test_sv.run(T)\n",
    "\n",
    "    # Calculate average detection rate\n",
    "    rate_sv = np.mean(detected_sv[:, 1:] / total_sv[:, 1:], axis=0)\n",
    "\n",
    "    # Update learning rate if final detection rate exceeds previous best\n",
    "    if rate_sv[-1] > rate_sv_opt[-1]:\n",
    "        lr_opt = lr\n",
    "        rate_sv_opt = rate_sv\n",
    "\n",
    "print(f\"PL-SV: Maximum detection rate = {rate_sv_opt[-1]} at learning rate {lr_opt}\")"
   ]
  },
  {
   "cell_type": "markdown",
   "id": "7262ecf2-c311-40d0-9bb4-b2dc069d41d5",
   "metadata": {},
   "source": [
    "Simulate PL-NN"
   ]
  },
  {
   "cell_type": "code",
   "execution_count": 8,
   "id": "2cead688-aaf5-4995-8f69-3ace9c2dc4f8",
   "metadata": {},
   "outputs": [
    {
     "name": "stdout",
     "output_type": "stream",
     "text": [
      "PL-NN: Maximum detection rate = 0.7088195495046529 at learning rate 0.00794328234724282 and hidden layer width 85\n"
     ]
    }
   ],
   "source": [
    "lr_opt = 0\n",
    "n_hidden_opt = 0\n",
    "rate_nn_opt = np.zeros(T + 1)\n",
    "\n",
    "for n_hidden in range(M, 10 * M, int(np.floor(M / 2))):\n",
    "    for lr in 10 ** np.linspace(-5, 1, 61):\n",
    "        # Initialize flagger and test\n",
    "        pl_flagger_nn = PLNNFlagger(K, M, lr=lr, n_hidden=n_hidden)\n",
    "        test_nn = PLFlaggerTest(pl_flagger_nn, sampler, N, t_warmup=10)\n",
    "    \n",
    "        # Initialize result arrays\n",
    "        total_nn = np.zeros((rollouts, T + 1))\n",
    "        detected_nn = np.zeros((rollouts, T + 1))\n",
    "    \n",
    "        # Simulate rollouts\n",
    "        for n in range(rollouts):\n",
    "            total_nn[n], detected_nn[n] = test_nn.run(T)\n",
    "    \n",
    "        # Calculate average detection rate\n",
    "        rate_nn = np.mean(detected_nn[:, 1:] / total_nn[:, 1:], axis=0)\n",
    "    \n",
    "        # Update learning rate if final detection rate exceeds previous best\n",
    "        if rate_nn[-1] > rate_nn_opt[-1]:\n",
    "            lr_opt = lr\n",
    "            n_hidden_opt = n_hidden\n",
    "            rate_nn_opt = rate_nn\n",
    "\n",
    "print(f\"PL-NN: Maximum detection rate = {rate_nn_opt[-1]} at learning rate {lr_opt} and hidden layer width {n_hidden_opt}\")"
   ]
  },
  {
   "cell_type": "markdown",
   "id": "3b01ad7c-b246-4216-9c9f-c6b8e73c4035",
   "metadata": {},
   "source": [
    "Plot average detection rates"
   ]
  },
  {
   "cell_type": "code",
   "execution_count": 9,
   "id": "9ce1d045-2ad4-48fc-a9d9-f1b2267a44e1",
   "metadata": {},
   "outputs": [
    {
     "data": {
      "image/png": "[encoded data removed]",
      "text/plain": [
       "<Figure size 640x480 with 1 Axes>"
      ]
     },
     "metadata": {},
     "output_type": "display_data"
    }
   ],
   "source": [
    "plt.plot(range(1, T+1), rate_lr_opt, label=\"PL-LR\")\n",
    "plt.plot(range(1, T+1), rate_sv_opt, label=\"PL-SV\")\n",
    "plt.plot(range(1, T+1), rate_nn_opt, label=\"PL-NN\")\n",
    "plt.title(\"Average Detection Rate\")\n",
    "plt.ylabel(\"Average Detection Rate\")\n",
    "plt.xlabel(\"Administration\")\n",
    "plt.legend()\n",
    "plt.grid()"
   ]
  }
 ],
 "metadata": {
  "kernelspec": {
   "display_name": "Python 3 (ipykernel)",
   "language": "python",
   "name": "python3"
  },
  "language_info": {
   "codemirror_mode": {
    "name": "ipython",
    "version": 3
   },
   "file_extension": ".py",
   "mimetype": "text/x-python",
   "name": "python",
   "nbconvert_exporter": "python",
   "pygments_lexer": "ipython3",
   "version": "3.13.5"
  }
 },
 "nbformat": 4,
 "nbformat_minor": 5
}
