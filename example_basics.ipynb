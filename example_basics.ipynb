{
 "cells": [
  {
   "cell_type": "code",
   "execution_count": 1,
   "id": "67a5d52a-2eb0-4a26-bce2-65823f41a517",
   "metadata": {},
   "outputs": [
    {
     "name": "stderr",
     "output_type": "stream",
     "text": [
      "<string>:11: SyntaxWarning: invalid escape sequence '\\s'\n",
      "<string>:193: SyntaxWarning: invalid escape sequence '\\s'\n"
     ]
    }
   ],
   "source": [
    "import numpy as np\n",
    "\n",
    "from flagger import BayesFlaggerBeta\n",
    "from flagger_tools import get_sampler_model\n",
    "from tmvbeta import TMVBeta"
   ]
  },
  {
   "cell_type": "markdown",
   "id": "709b9c33-e745-4916-b7ac-f65b1cb1bcee",
   "metadata": {},
   "source": [
    "#### This notenook explains the basic steps of setting up and using the Bayes flagger with beta marginals."
   ]
  },
  {
   "cell_type": "markdown",
   "id": "d107fe12-4548-45ed-a113-4c7d4c665553",
   "metadata": {},
   "source": [
    "First, we create a sampler to generate data. This will not be necessary if practice, of course."
   ]
  },
  {
   "cell_type": "code",
   "execution_count": 2,
   "id": "43753430-4233-482f-baf1-85b00f96c587",
   "metadata": {},
   "outputs": [],
   "source": [
    "# We use the parameters of the first example in the paper\n",
    "params = np.load(\"Data/parameters.npz\")\n",
    "a = params['a']\n",
    "b = params['b']\n",
    "cov = params['cov']"
   ]
  },
  {
   "cell_type": "code",
   "execution_count": 3,
   "id": "2ea21777-2d32-4849-90bf-0bd72944674a",
   "metadata": {},
   "outputs": [],
   "source": [
    "# The cheating rate is 20%\n",
    "r = 0.2\n",
    "P0 = TMVBeta(a[0], b[0], cov[0])\n",
    "P1 = TMVBeta(a[1], b[1], cov[1])\n",
    "sampler = get_sampler_model(r, P0, P1)"
   ]
  },
  {
   "cell_type": "markdown",
   "id": "4fb88a01-d195-4d1c-8464-5a532471f7fc",
   "metadata": {},
   "source": [
    "Next, we initialize the flagger. It takes two parameters: The number of test takers that should get flagged per test administration, `K`, and the size of the feature vector, `M`."
   ]
  },
  {
   "cell_type": "code",
   "execution_count": 4,
   "id": "2b5c6389-cab7-4ced-abd8-37e67b15470f",
   "metadata": {},
   "outputs": [],
   "source": [
    "bayes_flagger = BayesFlaggerBeta(K=20, M=10)"
   ]
  },
  {
   "cell_type": "markdown",
   "id": "586e3b53-1cc9-4113-ba76-b859c4a2a8ac",
   "metadata": {},
   "source": [
    "Now, let's generate some data. Here, we draw 100 samples. The sampler returns the feature vectors, `X`, and the true labels, `c`. That is, the $n$th test taker belongs to the critical group if `c[n] = 1` and the reference group if `c[n] = 0`. In practice, `c` would be unknown at this point."
   ]
  },
  {
   "cell_type": "code",
   "execution_count": 5,
   "id": "71a630ec-af50-4373-b585-c7a72c858ea7",
   "metadata": {},
   "outputs": [],
   "source": [
    "c, X = sampler(N=100)"
   ]
  },
  {
   "cell_type": "markdown",
   "id": "a8005c72-5a52-40e8-855a-8240d2bf6464",
   "metadata": {},
   "source": [
    "We can now flag a first batch of test takers. Note that in this example the fist batch will always be flagged randomly since the flagger is initialized with uninformative priors. However, the steps shown here are the same for all subsequent administrations. "
   ]
  },
  {
   "cell_type": "markdown",
   "id": "03ba8d86-1bf1-44f5-99c7-328acb047637",
   "metadata": {},
   "source": [
    "First, the flagger needs to be given the feature vectors of the current administration:"
   ]
  },
  {
   "cell_type": "code",
   "execution_count": 6,
   "id": "1fc58062-9ba3-4f83-b89b-247ec238c91d",
   "metadata": {},
   "outputs": [],
   "source": [
    "bayes_flagger.observe(X)"
   ]
  },
  {
   "cell_type": "markdown",
   "id": "d75902a6-1bc8-425a-afda-13ffff483bb6",
   "metadata": {},
   "source": [
    "Next, we calculate the posterior probabilities of test takers belonging to the critical group. Note that we pass a parameter `update_model=False`, meaning we do not want to update the underlying model yet, only get the critical group probabilities."
   ]
  },
  {
   "cell_type": "code",
   "execution_count": 7,
   "id": "8bfa7606-a752-4426-a817-781669b33c65",
   "metadata": {},
   "outputs": [],
   "source": [
    "bayes_flagger.update_posterior(update_model=False)"
   ]
  },
  {
   "cell_type": "markdown",
   "id": "06d1149a-575a-410b-977b-f0b43d1a1243",
   "metadata": {},
   "source": [
    "Based on the calculated probabilities we can flag `K` test takers for review."
   ]
  },
  {
   "cell_type": "code",
   "execution_count": 8,
   "id": "ff34f1ed-da69-427f-912a-4a1c712b7fe9",
   "metadata": {},
   "outputs": [],
   "source": [
    "bayes_flagger.flag()"
   ]
  },
  {
   "cell_type": "markdown",
   "id": "df6f3bd4-2922-45e9-af4a-462fe1ae9c3b",
   "metadata": {},
   "source": [
    "The selected test takers are then reviewed. Note that here we pass the true labels `c` that were provided by our sampler. In practice, `c` would be given by the outcomes of the reviews."
   ]
  },
  {
   "cell_type": "code",
   "execution_count": 9,
   "id": "5b14884e-9235-4af9-b6c7-fec1fff7d271",
   "metadata": {},
   "outputs": [],
   "source": [
    "bayes_flagger.review(c)"
   ]
  },
  {
   "cell_type": "markdown",
   "id": "f47eccc6-ee41-47f9-94aa-c86d357c5bcf",
   "metadata": {},
   "source": [
    "Now that we have acccess to `K` true labels, so we can redo the posterior update with more information. Also, this time we do want to learn and update the model and, therefore, pass `update_model=True`."
   ]
  },
  {
   "cell_type": "code",
   "execution_count": 10,
   "id": "61d740f2-f94d-4291-9307-2650861e4c47",
   "metadata": {},
   "outputs": [],
   "source": [
    "bayes_flagger.update_posterior(update_model=True)"
   ]
  },
  {
   "cell_type": "markdown",
   "id": "152144a5-c63f-46eb-b748-d853e4dac298",
   "metadata": {},
   "source": [
    "This closes the loop. The model is now updated and the flagger ready for the next administration. "
   ]
  }
 ],
 "metadata": {
  "kernelspec": {
   "display_name": "Python 3 (ipykernel)",
   "language": "python",
   "name": "python3"
  },
  "language_info": {
   "codemirror_mode": {
    "name": "ipython",
    "version": 3
   },
   "file_extension": ".py",
   "mimetype": "text/x-python",
   "name": "python",
   "nbconvert_exporter": "python",
   "pygments_lexer": "ipython3",
   "version": "3.13.5"
  }
 },
 "nbformat": 4,
 "nbformat_minor": 5
}
